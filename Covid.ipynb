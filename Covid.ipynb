{
  "nbformat": 4,
  "nbformat_minor": 0,
  "metadata": {
    "colab": {
      "name": "Untitled0.ipynb",
      "provenance": [],
      "collapsed_sections": [],
      "toc_visible": true
    },
    "kernelspec": {
      "name": "python3",
      "display_name": "Python 3"
    }
  },
  "cells": [
    {
      "cell_type": "code",
      "metadata": {
        "id": "h4tbRMxPMMYe",
        "outputId": "51da91e9-ffd3-4d90-8fb3-f732ffa765e8",
        "colab": {
          "base_uri": "https://localhost:8080/",
          "height": 0
        }
      },
      "source": [
        "!pip install spacy\n",
        "!pip install newsapi-python\n",
        "\n",
        "!python -m spacy download en_core_web_sm\n",
        "import spacy\n",
        "nlp_eng = spacy.load('en_core_web_sm')\n",
        "\n",
        "from newsapi import NewsApiClient\n",
        "newsapi = NewsApiClient (api_key='cc621bf117a7465b817748010294c5e0')"
      ],
      "execution_count": 5,
      "outputs": [
        {
          "output_type": "stream",
          "text": [
            "Requirement already satisfied: spacy in /usr/local/lib/python3.6/dist-packages (2.2.4)\n",
            "Requirement already satisfied: thinc==7.4.0 in /usr/local/lib/python3.6/dist-packages (from spacy) (7.4.0)\n",
            "Requirement already satisfied: catalogue<1.1.0,>=0.0.7 in /usr/local/lib/python3.6/dist-packages (from spacy) (1.0.0)\n",
            "Requirement already satisfied: requests<3.0.0,>=2.13.0 in /usr/local/lib/python3.6/dist-packages (from spacy) (2.23.0)\n",
            "Requirement already satisfied: preshed<3.1.0,>=3.0.2 in /usr/local/lib/python3.6/dist-packages (from spacy) (3.0.2)\n",
            "Requirement already satisfied: tqdm<5.0.0,>=4.38.0 in /usr/local/lib/python3.6/dist-packages (from spacy) (4.41.1)\n",
            "Requirement already satisfied: setuptools in /usr/local/lib/python3.6/dist-packages (from spacy) (50.3.2)\n",
            "Requirement already satisfied: plac<1.2.0,>=0.9.6 in /usr/local/lib/python3.6/dist-packages (from spacy) (1.1.3)\n",
            "Requirement already satisfied: blis<0.5.0,>=0.4.0 in /usr/local/lib/python3.6/dist-packages (from spacy) (0.4.1)\n",
            "Requirement already satisfied: numpy>=1.15.0 in /usr/local/lib/python3.6/dist-packages (from spacy) (1.18.5)\n",
            "Requirement already satisfied: murmurhash<1.1.0,>=0.28.0 in /usr/local/lib/python3.6/dist-packages (from spacy) (1.0.2)\n",
            "Requirement already satisfied: cymem<2.1.0,>=2.0.2 in /usr/local/lib/python3.6/dist-packages (from spacy) (2.0.3)\n",
            "Requirement already satisfied: wasabi<1.1.0,>=0.4.0 in /usr/local/lib/python3.6/dist-packages (from spacy) (0.8.0)\n",
            "Requirement already satisfied: srsly<1.1.0,>=1.0.2 in /usr/local/lib/python3.6/dist-packages (from spacy) (1.0.2)\n",
            "Requirement already satisfied: importlib-metadata>=0.20; python_version < \"3.8\" in /usr/local/lib/python3.6/dist-packages (from catalogue<1.1.0,>=0.0.7->spacy) (2.0.0)\n",
            "Requirement already satisfied: chardet<4,>=3.0.2 in /usr/local/lib/python3.6/dist-packages (from requests<3.0.0,>=2.13.0->spacy) (3.0.4)\n",
            "Requirement already satisfied: urllib3!=1.25.0,!=1.25.1,<1.26,>=1.21.1 in /usr/local/lib/python3.6/dist-packages (from requests<3.0.0,>=2.13.0->spacy) (1.24.3)\n",
            "Requirement already satisfied: certifi>=2017.4.17 in /usr/local/lib/python3.6/dist-packages (from requests<3.0.0,>=2.13.0->spacy) (2020.6.20)\n",
            "Requirement already satisfied: idna<3,>=2.5 in /usr/local/lib/python3.6/dist-packages (from requests<3.0.0,>=2.13.0->spacy) (2.10)\n",
            "Requirement already satisfied: zipp>=0.5 in /usr/local/lib/python3.6/dist-packages (from importlib-metadata>=0.20; python_version < \"3.8\"->catalogue<1.1.0,>=0.0.7->spacy) (3.3.1)\n",
            "Requirement already satisfied: newsapi-python in /usr/local/lib/python3.6/dist-packages (0.2.6)\n",
            "Requirement already satisfied: requests<3.0.0 in /usr/local/lib/python3.6/dist-packages (from newsapi-python) (2.23.0)\n",
            "Requirement already satisfied: certifi>=2017.4.17 in /usr/local/lib/python3.6/dist-packages (from requests<3.0.0->newsapi-python) (2020.6.20)\n",
            "Requirement already satisfied: chardet<4,>=3.0.2 in /usr/local/lib/python3.6/dist-packages (from requests<3.0.0->newsapi-python) (3.0.4)\n",
            "Requirement already satisfied: idna<3,>=2.5 in /usr/local/lib/python3.6/dist-packages (from requests<3.0.0->newsapi-python) (2.10)\n",
            "Requirement already satisfied: urllib3!=1.25.0,!=1.25.1,<1.26,>=1.21.1 in /usr/local/lib/python3.6/dist-packages (from requests<3.0.0->newsapi-python) (1.24.3)\n",
            "Requirement already satisfied: en_core_web_sm==2.2.5 from https://github.com/explosion/spacy-models/releases/download/en_core_web_sm-2.2.5/en_core_web_sm-2.2.5.tar.gz#egg=en_core_web_sm==2.2.5 in /usr/local/lib/python3.6/dist-packages (2.2.5)\n",
            "Requirement already satisfied: spacy>=2.2.2 in /usr/local/lib/python3.6/dist-packages (from en_core_web_sm==2.2.5) (2.2.4)\n",
            "Requirement already satisfied: murmurhash<1.1.0,>=0.28.0 in /usr/local/lib/python3.6/dist-packages (from spacy>=2.2.2->en_core_web_sm==2.2.5) (1.0.2)\n",
            "Requirement already satisfied: blis<0.5.0,>=0.4.0 in /usr/local/lib/python3.6/dist-packages (from spacy>=2.2.2->en_core_web_sm==2.2.5) (0.4.1)\n",
            "Requirement already satisfied: thinc==7.4.0 in /usr/local/lib/python3.6/dist-packages (from spacy>=2.2.2->en_core_web_sm==2.2.5) (7.4.0)\n",
            "Requirement already satisfied: tqdm<5.0.0,>=4.38.0 in /usr/local/lib/python3.6/dist-packages (from spacy>=2.2.2->en_core_web_sm==2.2.5) (4.41.1)\n",
            "Requirement already satisfied: setuptools in /usr/local/lib/python3.6/dist-packages (from spacy>=2.2.2->en_core_web_sm==2.2.5) (50.3.2)\n",
            "Requirement already satisfied: catalogue<1.1.0,>=0.0.7 in /usr/local/lib/python3.6/dist-packages (from spacy>=2.2.2->en_core_web_sm==2.2.5) (1.0.0)\n",
            "Requirement already satisfied: numpy>=1.15.0 in /usr/local/lib/python3.6/dist-packages (from spacy>=2.2.2->en_core_web_sm==2.2.5) (1.18.5)\n",
            "Requirement already satisfied: plac<1.2.0,>=0.9.6 in /usr/local/lib/python3.6/dist-packages (from spacy>=2.2.2->en_core_web_sm==2.2.5) (1.1.3)\n",
            "Requirement already satisfied: preshed<3.1.0,>=3.0.2 in /usr/local/lib/python3.6/dist-packages (from spacy>=2.2.2->en_core_web_sm==2.2.5) (3.0.2)\n",
            "Requirement already satisfied: requests<3.0.0,>=2.13.0 in /usr/local/lib/python3.6/dist-packages (from spacy>=2.2.2->en_core_web_sm==2.2.5) (2.23.0)\n",
            "Requirement already satisfied: cymem<2.1.0,>=2.0.2 in /usr/local/lib/python3.6/dist-packages (from spacy>=2.2.2->en_core_web_sm==2.2.5) (2.0.3)\n",
            "Requirement already satisfied: wasabi<1.1.0,>=0.4.0 in /usr/local/lib/python3.6/dist-packages (from spacy>=2.2.2->en_core_web_sm==2.2.5) (0.8.0)\n",
            "Requirement already satisfied: srsly<1.1.0,>=1.0.2 in /usr/local/lib/python3.6/dist-packages (from spacy>=2.2.2->en_core_web_sm==2.2.5) (1.0.2)\n",
            "Requirement already satisfied: importlib-metadata>=0.20; python_version < \"3.8\" in /usr/local/lib/python3.6/dist-packages (from catalogue<1.1.0,>=0.0.7->spacy>=2.2.2->en_core_web_sm==2.2.5) (2.0.0)\n",
            "Requirement already satisfied: idna<3,>=2.5 in /usr/local/lib/python3.6/dist-packages (from requests<3.0.0,>=2.13.0->spacy>=2.2.2->en_core_web_sm==2.2.5) (2.10)\n",
            "Requirement already satisfied: certifi>=2017.4.17 in /usr/local/lib/python3.6/dist-packages (from requests<3.0.0,>=2.13.0->spacy>=2.2.2->en_core_web_sm==2.2.5) (2020.6.20)\n",
            "Requirement already satisfied: chardet<4,>=3.0.2 in /usr/local/lib/python3.6/dist-packages (from requests<3.0.0,>=2.13.0->spacy>=2.2.2->en_core_web_sm==2.2.5) (3.0.4)\n",
            "Requirement already satisfied: urllib3!=1.25.0,!=1.25.1,<1.26,>=1.21.1 in /usr/local/lib/python3.6/dist-packages (from requests<3.0.0,>=2.13.0->spacy>=2.2.2->en_core_web_sm==2.2.5) (1.24.3)\n",
            "Requirement already satisfied: zipp>=0.5 in /usr/local/lib/python3.6/dist-packages (from importlib-metadata>=0.20; python_version < \"3.8\"->catalogue<1.1.0,>=0.0.7->spacy>=2.2.2->en_core_web_sm==2.2.5) (3.3.1)\n",
            "\u001b[38;5;2m✔ Download and installation successful\u001b[0m\n",
            "You can now load the model via spacy.load('en_core_web_sm')\n"
          ],
          "name": "stdout"
        }
      ]
    },
    {
      "cell_type": "code",
      "metadata": {
        "id": "DoqektnMKc6A"
      },
      "source": [
        "articles = []\n",
        "for x in range(1,5):\n",
        " articles.append(newsapi.get_everything(q='coronavirus', language='en', from_param='2020-10-10', to='2020-10-27', sort_by='relevancy', page=x))"
      ],
      "execution_count": 6,
      "outputs": []
    },
    {
      "cell_type": "code",
      "metadata": {
        "id": "csuCYEL4MMHY"
      },
      "source": [
        "import pickle\n",
        "\n",
        "for x in range(1,5):\n",
        "  filename = 'articlesCOVID.pckl'\n",
        "  pickle.dump(articles, open(filename, 'wb'))\n",
        "\n",
        "  filename = 'articlesCOVID.pckl'\n",
        "  loaded_model = pickle.load(open(filename, 'rb'))\n",
        "\n",
        "  filepath = '/content/drive/My Drive/Covid19/articlesCOVID.pckl'\n",
        "  pickle.dump(loaded_model, open(filepath, 'ab'))\n"
      ],
      "execution_count": 7,
      "outputs": []
    },
    {
      "cell_type": "code",
      "metadata": {
        "id": "EASC5Cz2jWb5",
        "outputId": "a6d69486-2f64-4d21-e780-c6d85d561d7b",
        "colab": {
          "base_uri": "https://localhost:8080/",
          "height": 0
        }
      },
      "source": [
        "a = articles[2]['articles']\n",
        "print(a)"
      ],
      "execution_count": 8,
      "outputs": [
        {
          "output_type": "stream",
          "text": [
            "[{'source': {'id': 'bbc-news', 'name': 'BBC News'}, 'author': 'https://www.facebook.com/bbcnews', 'title': 'US election 2020: Harris halts travel after aide tests positive for coronavirus', 'description': 'The vice-presidential candidate was not exposed to coronavirus positive staff, the campaign said.', 'url': 'https://www.bbc.co.uk/news/election-us-2020-54559605', 'urlToImage': 'https://ichef.bbci.co.uk/news/1024/branded_news/E5F8/production/_114927885_gettyimages-1228964799-1.jpg', 'publishedAt': '2020-10-15T14:39:52Z', 'content': 'image copyrightGetty Images\\r\\nimage captionMr Biden and Mrs Harris campaigned in Arizona together last Thursday\\r\\nDemocratic vice-presidential candidate Kamala Harris will halt campaign travel until Mo… [+2549 chars]'}, {'source': {'id': 'bbc-news', 'name': 'BBC News'}, 'author': 'https://www.facebook.com/bbcnews', 'title': \"Coronavirus: WHO head calls herd immunity approach 'immoral'\", 'description': 'Dr Ghebreyesus said allowing coronavirus to spread unchecked would cause unnecessary suffering and death.', 'url': 'https://www.bbc.co.uk/news/world-54518286', 'urlToImage': 'https://ichef.bbci.co.uk/news/1024/branded_news/00B1/production/_114877100_tv063687635.jpg', 'publishedAt': '2020-10-12T22:23:30Z', 'content': \"Image copyrightReutersImage caption\\r\\n Dr Ghebreyesus said allowing the virus to spread would cause 'unnecessary' suffering\\r\\nThe head of the World Health Organization has ruled out a herd immunity res… [+1472 chars]\"}, {'source': {'id': 'bbc-news', 'name': 'BBC News'}, 'author': None, 'title': 'World number one Johnson tests positive for coronavirus', 'description': 'World number one Dustin Johnson tests positive for coronavirus, the PGA Tour announces.', 'url': 'https://www.bbc.co.uk/sport/golf/54532968', 'urlToImage': 'https://ichef.bbci.co.uk/live-experience/cps/624/cpsprodpb/C971/production/_114896515_johnson.jpg', 'publishedAt': '2020-10-13T20:06:08Z', 'content': 'Johnson playing in the US Open in September\\r\\nWorld number one Dustin Johnson has tested positive for coronavirus, the PGA Tour has announced.\\r\\nJohnson, 36, who is now self-isolating, has withdrawn fr… [+752 chars]'}, {'source': {'id': 'bbc-news', 'name': 'BBC News'}, 'author': 'https://www.facebook.com/bbcnews', 'title': 'Bihar elections: Crowds throng rallies amid coronavirus fear', 'description': 'Experts say that flouting coronavirus safety rules at rallies can have devastating consequences.', 'url': 'https://www.bbc.co.uk/news/world-asia-india-54657433', 'urlToImage': 'https://ichef.bbci.co.uk/news/1024/branded_news/8B1E/production/_115041653_gettyimages-1229209078.jpg', 'publishedAt': '2020-10-23T07:59:57Z', 'content': 'By Vikas PandeyBBC News, Delhi\\r\\nimage copyrightGetty Images\\r\\nimage captionLarge crowds have been seen in political rallies in BIhar\\r\\nIndian Prime Minister Narendra Modi on Tuesday asked people not to… [+5312 chars]'}, {'source': {'id': 'mashable', 'name': 'Mashable'}, 'author': 'Tulika Bose', 'title': 'Your privacy may be another victim of the coronavirus pandemic', 'description': 'Drones. Surveillance creep. A terrifying new normal is approaching...regardless of whether we like it or not.\\xa0\\nRead the full story here. Read more...More about Mashable Video, Cybersecurity, Election, Digital Surveillance, and Tech', 'url': 'https://mashable.com/video/digital-surveillance/', 'urlToImage': 'https://mondrian.mashable.com/2020%252F10%252F12%252F09%252F8c9f9b1415324b74802699f1134473b9.ed84f.png%252F1200x630.png?signature=gwmQYlLb515fmTb2i3OtYyO2qZI=', 'publishedAt': '2020-10-12T19:52:58Z', 'content': 'Drones. Surveillance creep. A terrifying new normal is approaching...regardless of whether we like it or not.\\xa0\\r\\nRead the full story here.'}, {'source': {'id': None, 'name': 'New York Times'}, 'author': 'Alan Blinder', 'title': 'Nick Saban, Alabama’s Football Coach, Tests Positive for Coronavirus', 'description': 'The renowned Alabama coach is the most prominent figure in college sports known to have tested positive during the coronavirus pandemic.', 'url': 'https://www.nytimes.com/2020/10/14/sports/ncaafootball/coronavirus-nick-saban-alabama.html', 'urlToImage': 'https://static01.nyt.com/images/2020/10/14/sports/14saban-web-1/14saban-web-1-facebookJumbo.jpg', 'publishedAt': '2020-10-14T22:12:04Z', 'content': 'Nick Saban, the University of Alabamas revered football coach and one of the most powerful figures in college sports, said Wednesday that he had tested positive for the coronavirus.\\r\\nSaban, whose sec… [+909 chars]'}, {'source': {'id': None, 'name': 'New York Times'}, 'author': 'The New York Times', 'title': 'American Public Grows Increasingly Wary of Coronavirus Vaccines', 'description': 'California and New York plan to review any federally approved coronavirus vaccine, part of a growing skepticism as the Trump administration has pushed for speedy drug development.', 'url': 'https://www.nytimes.com/live/2020/10/20/world/covid-19-coronavirus-updates', 'urlToImage': 'https://static01.nyt.com/images/2020/10/20/world/20virus-briefing-vaccines1/20virus-briefing-vaccines1-facebookJumbo.jpg', 'publishedAt': '2020-10-20T09:53:46Z', 'content': 'LiveUpdated\\xa0Oct. 20, 2020, 6:06 a.m. ET\\r\\nOct. 20, 2020, 6:06 a.m. ET\\r\\nCalifornia and New York plan to review any federally approved coronavirus vaccine, part of a growing skepticism as the Trump admi… [+14717 chars]'}, {'source': {'id': 'mashable', 'name': 'Mashable'}, 'author': 'Sasha Lekach', 'title': \"After coronavirus shutdown, Lyft's self-driving cars will pick up passengers again\", 'description': 'You can order a self-driving car on Lyft again.\\xa0\\nThe company paused its autonomous taxi program, which only operates in Las Vegas, in \\xa0March because of the coronavirus pandemic. Starting Thursday, the fleet will be picking up passengers again. Before the shut…', 'url': 'https://mashable.com/article/lyft-motional-self-driving-cars-return/', 'urlToImage': 'https://mondrian.mashable.com/2020%252F10%252F22%252F2e%252F7ba5adca524a43ad842977b5d22c6126.1d68b.jpg%252F1200x630.jpg?signature=Vv6wmO76cVvRmsIf994VYxmqynQ=', 'publishedAt': '2020-10-22T13:00:00Z', 'content': 'You can order a self-driving car on Lyft again.\\xa0\\r\\nThe company paused its autonomous taxi program, which only operates in Las Vegas, in \\xa0March because of the coronavirus pandemic. Starting Thursday, t… [+1182 chars]'}, {'source': {'id': None, 'name': 'New York Times'}, 'author': 'Emily Cochrane', 'title': 'Senate Republicans Denounce White House’s Offer for Coronavirus Relief', 'description': 'Even as Democrats held out for more concessions over funding and provisions, it was the deep divisions among Republicans that were standing in the way.', 'url': 'https://www.nytimes.com/2020/10/10/us/politics/senate-republicans-white-house-coronavirus-relief.html', 'urlToImage': 'https://static01.nyt.com/images/2020/10/10/us/politics/10dc-virus-cong-2/10dc-virus-cong-2-facebookJumbo.jpg', 'publishedAt': '2020-10-10T21:27:05Z', 'content': 'Senator Marsha Blackburn of Tennessee, a Republican, warned that accepting a bill with Ms. Pelosis support would amount to a death knell for the partys ambitions to retain its majority in the Senate … [+2402 chars]'}, {'source': {'id': None, 'name': 'New York Times'}, 'author': 'Apoorva Mandavilli', 'title': 'Could Trump Still Spread the Coronavirus? Probably Not, Experts Say', 'description': 'While questions have surrounded the timing and severity of the president’s illness, health experts said he was unlikely to infect people at Thursday’s town hall event on NBC.', 'url': 'https://www.nytimes.com/2020/10/15/us/politics/covid-trump.html', 'urlToImage': 'https://static01.nyt.com/images/2020/10/15/us/politics/15virus-trumptownhall/15virus-trumptownhall-facebookJumbo.jpg', 'publishedAt': '2020-10-15T19:36:53Z', 'content': 'The Centers for Disease Control and Prevention recommends that infected patients isolate for at least 10 days if they had mild or moderate illness, and for up to 20 days if they had severe symptoms. … [+1238 chars]'}, {'source': {'id': None, 'name': 'New York Times'}, 'author': 'Julie Bosman, Sarah Mervosh and Marc Santora', 'title': 'As the Coronavirus Surges, a New Culprit Emerges: Pandemic Fatigue', 'description': 'Exhaustion and impatience are creating new risks as cases soar in parts of the world. “They have had enough,” one U.S. mayor said of her residents.', 'url': 'https://www.nytimes.com/2020/10/17/us/coronavirus-pandemic-fatigue.html', 'urlToImage': 'https://static01.nyt.com/images/2020/10/17/us/17virus-stateofthevirus/17virus-stateofthevirus-facebookJumbo.jpg', 'publishedAt': '2020-10-17T19:50:37Z', 'content': 'Sick people are telling contact tracers they picked up the virus while trying to return to ordinary life. Beth Martin, a retired school librarian who is working as a contact tracer in Marathon County… [+1297 chars]'}, {'source': {'id': None, 'name': 'New York Times'}, 'author': 'The New York Times', 'title': 'Coronavirus Reinfections Do Happen but Are Very, Very Rare', 'description': 'A case in Nevada has prompted concerns that recovered people may still be vulnerable. The Midwest and West are driving a U.S. surge. Here’s the latest.', 'url': 'https://www.nytimes.com/live/2020/10/14/world/covid-coronavirus', 'urlToImage': 'https://static01.nyt.com/images/2020/10/14/us/politics/14virus-briefing-reinfection4/merlin_175562739_546635df-0978-488a-a02b-9776e2493cd2-facebookJumbo.jpg', 'publishedAt': '2020-10-14T10:00:24Z', 'content': 'LiveUpdated\\xa0Oct. 14, 2020, 5:43 a.m. ET\\r\\nOct. 14, 2020, 5:43 a.m. ET\\r\\nA case in Nevada has prompted concerns that people who have recovered from the coronavirus may still be vulnerable. Thats unlikel… [+8345 chars]'}, {'source': {'id': None, 'name': 'New York Times'}, 'author': 'Remy Tumin, Will Dudding and Jeremiah M. Bogert, Jr.', 'title': 'Coronavirus Surge, 2020 Election, Borat: Your Friday Evening Briefing', 'description': 'Here’s what you need to know at the end of the day.', 'url': 'https://www.nytimes.com/2020/10/23/briefing/coronavirus-surge-2020-election-borat.html', 'urlToImage': 'https://static01.nyt.com/images/2020/10/22/us/23evening-briefing-promo/merlin_178899207_165b7fcb-71d3-4652-bd78-71bd499cbfb8-facebookJumbo.jpg', 'publishedAt': '2020-10-23T22:01:58Z', 'content': '10. And finally, ending the week on a sweet note.\\r\\nSugar Good, the manager of the Dunkin doughnut store in Edmond, Okla., knew John Thompson by his order. Each weekday morning at 7:15, she handed him… [+514 chars]'}, {'source': {'id': None, 'name': 'New York Times'}, 'author': 'Sarah Kliff', 'title': 'A $52,112 Helicopter Ride: Coronavirus Patients Battle Surprise Medical Bills', 'description': 'Congress was close to a solution before getting hit with millions of dollars of ads from private-equity firms. Then the pandemic struck.', 'url': 'https://www.nytimes.com/2020/10/13/upshot/coronavirus-surprise-medical-bills.html', 'urlToImage': 'https://static01.nyt.com/images/2020/10/06/upshot/up-coronavirus-surprise/up-coronavirus-surprise-facebookJumbo.jpg', 'publishedAt': '2020-10-13T14:19:18Z', 'content': 'The government is telling people if you have coronavirus, you cannot get surprise-billed, Dr. Chhabra said. Its incredibly counterproductive if people cannot trust the policies meant to protect them … [+2040 chars]'}, {'source': {'id': None, 'name': 'New York Times'}, 'author': 'Ken Belson, Andrew Das and Katherine J. Wu', 'title': 'Colts Report False Coronavirus Positives and Patriots Call Off Practice', 'description': 'Indianapolis announced four positives, then said that re-testing produced different results. Both teams plan to play Sunday.', 'url': 'https://www.nytimes.com/2020/10/16/sports/football/patriots-colts-coronavirus-nfl.html', 'urlToImage': 'https://static01.nyt.com/images/2020/10/16/sports/16nfl-positives-1/16nfl-positives-1-facebookJumbo.jpg', 'publishedAt': '2020-10-18T14:20:56Z', 'content': 'The Indianapolis Colts on Friday briefly joined the growing group of N.F.L. teams dealing with a potential outbreak of coronavirus cases. Hours later, though, the team announced that the four individ… [+1406 chars]'}, {'source': {'id': None, 'name': 'New York Times'}, 'author': 'Benjamin Mueller', 'title': 'To Test Coronavirus Vaccines, UK Study Will Intentionally Infect Volunteers', 'description': 'The hotly contested strategy of deliberate exposure, known as a human challenge trial, could speed up the process of identifying effective coronavirus vaccines.', 'url': 'https://www.nytimes.com/2020/10/20/world/europe/coronavirus-vaccine-uk.html', 'urlToImage': 'https://static01.nyt.com/images/2020/10/20/world/20UK-Virus/20UK-Virus-facebookJumbo.jpg', 'publishedAt': '2020-10-20T23:02:42Z', 'content': 'LONDON Scientists at Imperial College London plan to deliberately infect volunteers with the coronavirus early next year, launching the worlds first effort to study how vaccinated people respond to b… [+1392 chars]'}, {'source': {'id': None, 'name': 'New York Times'}, 'author': 'Remy Tumin and Judith Levitt', 'title': 'Coronavirus Surge, 2020 Election, M.L.B. Playoffs: Your Weekend Briefing', 'description': 'Here’s what you need to know about the week’s top stories.', 'url': 'https://www.nytimes.com/2020/10/18/briefing/coronavirus-surge-2020-election-mlb-playoffs.html', 'urlToImage': 'https://static01.nyt.com/images/2020/10/17/multimedia/17hpfader-slide8-weekendbrieifing-promo/17hpfader-slide8-weekendbrieifing-facebookJumbo-v3.jpg', 'publishedAt': '2020-10-18T09:39:12Z', 'content': '2. Joe Biden is vastly outspending President Trump in television advertising, maintaining a nearly 2-to-1 advantage on the airwaves.\\r\\nHis dominance is most pronounced in three critical swing states M… [+738 chars]'}, {'source': {'id': None, 'name': 'New York Times'}, 'author': 'Remy Tumin and Judith Levitt', 'title': '2020 Election, Coronavirus Surge, Fall Cocktails: Your Weekend Briefing', 'description': 'Here’s what you need to know about the week’s top stories.', 'url': 'https://www.nytimes.com/2020/10/25/briefing/2020-election-coronavirus-surge-fall-cocktails-.html', 'urlToImage': 'https://static01.nyt.com/images/2020/10/24/multimedia/24weekend-briefing-pm-vote/24weekend-briefing-pm-vote-facebookJumbo.jpg', 'publishedAt': '2020-10-25T10:00:05Z', 'content': '7. Against all odds, professional sports came back in 2020. Now comes the hard part: They have to do it again.\\r\\nAggressive coronavirus testing made the restart of professional sports possible, but th… [+512 chars]'}, {'source': {'id': 'cnn', 'name': 'CNN'}, 'author': None, 'title': 'These rescued dogs got stuck when Covid-19 hit', 'description': 'Animal rescues around the world continue despite coronavirus travel restrictions, thanks to determined animal welfare advocates.', 'url': 'https://www.cnn.com/videos/travel/2020/10/13/animal-rescues-around-the-world-2020-travel-orig-ff.cnn', 'urlToImage': 'https://cdn.cnn.com/cnnnext/dam/assets/201006112233-12-dog-rescue-photos-restricted-super-tease.jpg', 'publishedAt': '2020-10-14T11:40:19Z', 'content': None}, {'source': {'id': 'bbc-news', 'name': 'BBC News'}, 'author': 'https://www.facebook.com/bbcnews', 'title': 'Coronavirus: Dutch royals return amid anger over Covid holiday', 'description': 'The family flew back from Greece after just a day on holiday there, amid intense criticism.', 'url': 'https://www.bbc.co.uk/news/world-europe-54548631', 'urlToImage': 'https://ichef.bbci.co.uk/news/1024/branded_news/16B07/production/_114953929_mediaitem114953928.jpg', 'publishedAt': '2020-10-17T21:07:51Z', 'content': 'image captionA vehicle carrying the royal family arrives back at Huis ten Bosch palace in The Hague\\r\\nThe Dutch royal family is back in the country after a holiday that lasted just one day, following … [+2443 chars]'}]\n"
          ],
          "name": "stdout"
        }
      ]
    },
    {
      "cell_type": "code",
      "metadata": {
        "id": "9bQ4EAylqIxf",
        "outputId": "a6af241a-cf17-418c-84bd-b4d9782a1c2f",
        "colab": {
          "base_uri": "https://localhost:8080/",
          "height": 0
        }
      },
      "source": [
        "articles[1]['articles'][0]"
      ],
      "execution_count": 9,
      "outputs": [
        {
          "output_type": "execute_result",
          "data": {
            "text/plain": [
              "{'author': 'https://www.facebook.com/bbcnews',\n",
              " 'content': 'image captionThe outbreak has intensified in the past few months in Argentina - especially in the Buenos Aires province\\r\\nArgentina has become the fifth country in the world to record one million conf… [+877 chars]',\n",
              " 'description': 'The South American nation becomes the fifth country in the world to reach the grim milestone.',\n",
              " 'publishedAt': '2020-10-20T02:07:03Z',\n",
              " 'source': {'id': 'bbc-news', 'name': 'BBC News'},\n",
              " 'title': \"Coronavirus: Argentina's confirmed cases surpass one million\",\n",
              " 'url': 'https://www.bbc.co.uk/news/world-latin-america-54609384',\n",
              " 'urlToImage': 'https://ichef.bbci.co.uk/news/1024/branded_news/1354B/production/_114997197_hi063904237.jpg'}"
            ]
          },
          "metadata": {
            "tags": []
          },
          "execution_count": 9
        }
      ]
    },
    {
      "cell_type": "code",
      "metadata": {
        "id": "iYZ5FalcMMdy",
        "outputId": "0720e8a0-dd4b-4a2d-b511-108ade5f55d6",
        "colab": {
          "base_uri": "https://localhost:8080/",
          "height": 589
        }
      },
      "source": [
        "\n",
        "import pandas as pd\n",
        "import collections\n",
        "import string\n",
        "\n",
        "df = pd.DataFrame(columns=['Title', 'Date', 'Desc', 'Content'])\n",
        "\n",
        "for x in range(1,5): \n",
        "  for i, article in enumerate(articles[1]['articles']):\n",
        "    title = article['title']\n",
        "    date = article['publishedAt']\n",
        "    description = article['description']\n",
        "    content = article['content']\n",
        "    data = [[title, date, description, content]]\n",
        "    dados = pd.DataFrame(data, columns=['Title', 'Date', 'Desc', 'Content'])\n",
        "    df = df.append(dados, ignore_index=True)\n",
        "df = df.dropna()\n",
        "df.head()\n",
        "df\n",
        "\n",
        "\n"
      ],
      "execution_count": 14,
      "outputs": [
        {
          "output_type": "execute_result",
          "data": {
            "text/html": [
              "<div>\n",
              "<style scoped>\n",
              "    .dataframe tbody tr th:only-of-type {\n",
              "        vertical-align: middle;\n",
              "    }\n",
              "\n",
              "    .dataframe tbody tr th {\n",
              "        vertical-align: top;\n",
              "    }\n",
              "\n",
              "    .dataframe thead th {\n",
              "        text-align: right;\n",
              "    }\n",
              "</style>\n",
              "<table border=\"1\" class=\"dataframe\">\n",
              "  <thead>\n",
              "    <tr style=\"text-align: right;\">\n",
              "      <th></th>\n",
              "      <th>Title</th>\n",
              "      <th>Date</th>\n",
              "      <th>Desc</th>\n",
              "      <th>Content</th>\n",
              "    </tr>\n",
              "  </thead>\n",
              "  <tbody>\n",
              "    <tr>\n",
              "      <th>0</th>\n",
              "      <td>Coronavirus: Argentina's confirmed cases surpa...</td>\n",
              "      <td>2020-10-20T02:07:03Z</td>\n",
              "      <td>The South American nation becomes the fifth co...</td>\n",
              "      <td>image captionThe outbreak has intensified in t...</td>\n",
              "    </tr>\n",
              "    <tr>\n",
              "      <th>1</th>\n",
              "      <td>Why False Positives Matter, Too</td>\n",
              "      <td>2020-10-25T09:00:15Z</td>\n",
              "      <td>False negatives are not the only troublesome o...</td>\n",
              "      <td>The ever-increasing availability of virtual pl...</td>\n",
              "    </tr>\n",
              "    <tr>\n",
              "      <th>3</th>\n",
              "      <td>Coronavirus: Europe’s tough restrictions ‘abso...</td>\n",
              "      <td>2020-10-15T15:06:57Z</td>\n",
              "      <td>The World Health Organization's warning comes ...</td>\n",
              "      <td>image captionMeasures against coronavirus are ...</td>\n",
              "    </tr>\n",
              "    <tr>\n",
              "      <th>5</th>\n",
              "      <td>Coronavirus: Clashes in Naples over tightening...</td>\n",
              "      <td>2020-10-24T07:55:09Z</td>\n",
              "      <td>Hundreds protested in the southern Italian cit...</td>\n",
              "      <td>image captionSmoke bombs and firecrackers were...</td>\n",
              "    </tr>\n",
              "    <tr>\n",
              "      <th>7</th>\n",
              "      <td>Coronavirus Has Killed Nearly 10,000 Minks in ...</td>\n",
              "      <td>2020-10-12T16:10:00Z</td>\n",
              "      <td>Humans aren’t the only creatures at risk from ...</td>\n",
              "      <td>Humans arent the only creatures at risk from d...</td>\n",
              "    </tr>\n",
              "    <tr>\n",
              "      <th>...</th>\n",
              "      <td>...</td>\n",
              "      <td>...</td>\n",
              "      <td>...</td>\n",
              "      <td>...</td>\n",
              "    </tr>\n",
              "    <tr>\n",
              "      <th>75</th>\n",
              "      <td>Harrowing New Coronavirus Surge Rages Across A...</td>\n",
              "      <td>2020-10-24T13:45:33Z</td>\n",
              "      <td>The U.S. set a single-day record of 82,154 new...</td>\n",
              "      <td>LiveUpdated Oct. 24, 2020, 9:31 a.m. ET\\r\\nOct...</td>\n",
              "    </tr>\n",
              "    <tr>\n",
              "      <th>76</th>\n",
              "      <td>SUNY Oneonta President Resigns After 700 Stude...</td>\n",
              "      <td>2020-10-15T22:40:58Z</td>\n",
              "      <td>The State University of New York at Oneonta ha...</td>\n",
              "      <td>Although the university did not directly tie D...</td>\n",
              "    </tr>\n",
              "    <tr>\n",
              "      <th>77</th>\n",
              "      <td>Can I Safely Send My Kid to Day Care? We Asked...</td>\n",
              "      <td>2020-10-23T13:29:11Z</td>\n",
              "      <td>As states struggle with reopening, parents are...</td>\n",
              "      <td>When it comes to transmission of Covid-19 thro...</td>\n",
              "    </tr>\n",
              "    <tr>\n",
              "      <th>78</th>\n",
              "      <td>The I.M.F. sees early signs of a global econom...</td>\n",
              "      <td>2020-10-13T12:30:05Z</td>\n",
              "      <td>The world finance group warns that the crisis ...</td>\n",
              "      <td>The recession is hammering both advanced and e...</td>\n",
              "    </tr>\n",
              "    <tr>\n",
              "      <th>79</th>\n",
              "      <td>China Got Better. We Got Sicker. Thanks, Trump.</td>\n",
              "      <td>2020-10-13T23:50:48Z</td>\n",
              "      <td>With a different leader, the United States cou...</td>\n",
              "      <td>America cannot employ such a strategy. We dont...</td>\n",
              "    </tr>\n",
              "  </tbody>\n",
              "</table>\n",
              "<p>68 rows × 4 columns</p>\n",
              "</div>"
            ],
            "text/plain": [
              "                                                Title  ...                                            Content\n",
              "0   Coronavirus: Argentina's confirmed cases surpa...  ...  image captionThe outbreak has intensified in t...\n",
              "1                     Why False Positives Matter, Too  ...  The ever-increasing availability of virtual pl...\n",
              "3   Coronavirus: Europe’s tough restrictions ‘abso...  ...  image captionMeasures against coronavirus are ...\n",
              "5   Coronavirus: Clashes in Naples over tightening...  ...  image captionSmoke bombs and firecrackers were...\n",
              "7   Coronavirus Has Killed Nearly 10,000 Minks in ...  ...  Humans arent the only creatures at risk from d...\n",
              "..                                                ...  ...                                                ...\n",
              "75  Harrowing New Coronavirus Surge Rages Across A...  ...  LiveUpdated Oct. 24, 2020, 9:31 a.m. ET\\r\\nOct...\n",
              "76  SUNY Oneonta President Resigns After 700 Stude...  ...  Although the university did not directly tie D...\n",
              "77  Can I Safely Send My Kid to Day Care? We Asked...  ...  When it comes to transmission of Covid-19 thro...\n",
              "78  The I.M.F. sees early signs of a global econom...  ...  The recession is hammering both advanced and e...\n",
              "79    China Got Better. We Got Sicker. Thanks, Trump.  ...  America cannot employ such a strategy. We dont...\n",
              "\n",
              "[68 rows x 4 columns]"
            ]
          },
          "metadata": {
            "tags": []
          },
          "execution_count": 14
        }
      ]
    },
    {
      "cell_type": "code",
      "metadata": {
        "id": "v3hTMKdpMMhK",
        "outputId": "d38ccda1-518c-4b54-cc46-b1d8a6cfc9b6",
        "colab": {
          "base_uri": "https://localhost:8080/",
          "height": 742
        }
      },
      "source": [
        "\n",
        "result = []\n",
        "results = []\n",
        "pos_tag = ['VERB', 'NOUN', 'PROPN']\n",
        "c = collections.Counter()\n",
        "\n",
        "def get_keywords_eng(content):\n",
        "  doc = nlp_eng(content)\n",
        "  for token in doc:\n",
        "    if (token.text in nlp_eng.Defaults.stop_words or token.text in string.punctuation):\n",
        "     continue\n",
        "    if (token.pos_ in pos_tag):\n",
        "       result.append(token.text)\n",
        "  return result\n",
        "\n",
        "\n",
        "for content in df.Content.values:\n",
        "    results.append([('#' + x[0]) for x in collections.Counter(get_keywords_eng(content)).most_common(5)])\n",
        "df['keywords'] = results\n",
        "df.to_csv(r'dataset.csv')\n",
        "df\n",
        "\n",
        "\n",
        "\n"
      ],
      "execution_count": 15,
      "outputs": [
        {
          "output_type": "execute_result",
          "data": {
            "text/html": [
              "<div>\n",
              "<style scoped>\n",
              "    .dataframe tbody tr th:only-of-type {\n",
              "        vertical-align: middle;\n",
              "    }\n",
              "\n",
              "    .dataframe tbody tr th {\n",
              "        vertical-align: top;\n",
              "    }\n",
              "\n",
              "    .dataframe thead th {\n",
              "        text-align: right;\n",
              "    }\n",
              "</style>\n",
              "<table border=\"1\" class=\"dataframe\">\n",
              "  <thead>\n",
              "    <tr style=\"text-align: right;\">\n",
              "      <th></th>\n",
              "      <th>Title</th>\n",
              "      <th>Date</th>\n",
              "      <th>Desc</th>\n",
              "      <th>Content</th>\n",
              "      <th>keywords</th>\n",
              "    </tr>\n",
              "  </thead>\n",
              "  <tbody>\n",
              "    <tr>\n",
              "      <th>0</th>\n",
              "      <td>Coronavirus: Argentina's confirmed cases surpa...</td>\n",
              "      <td>2020-10-20T02:07:03Z</td>\n",
              "      <td>The South American nation becomes the fifth co...</td>\n",
              "      <td>image captionThe outbreak has intensified in t...</td>\n",
              "      <td>[#Argentina, #image, #captionThe, #outbreak, #...</td>\n",
              "    </tr>\n",
              "    <tr>\n",
              "      <th>1</th>\n",
              "      <td>Why False Positives Matter, Too</td>\n",
              "      <td>2020-10-25T09:00:15Z</td>\n",
              "      <td>False negatives are not the only troublesome o...</td>\n",
              "      <td>The ever-increasing availability of virtual pl...</td>\n",
              "      <td>[#Argentina, #chars, #image, #captionThe, #out...</td>\n",
              "    </tr>\n",
              "    <tr>\n",
              "      <th>3</th>\n",
              "      <td>Coronavirus: Europe’s tough restrictions ‘abso...</td>\n",
              "      <td>2020-10-15T15:06:57Z</td>\n",
              "      <td>The World Health Organization's warning comes ...</td>\n",
              "      <td>image captionMeasures against coronavirus are ...</td>\n",
              "      <td>[#chars, #image, #Argentina, #captionThe, #out...</td>\n",
              "    </tr>\n",
              "    <tr>\n",
              "      <th>5</th>\n",
              "      <td>Coronavirus: Clashes in Naples over tightening...</td>\n",
              "      <td>2020-10-24T07:55:09Z</td>\n",
              "      <td>Hundreds protested in the southern Italian cit...</td>\n",
              "      <td>image captionSmoke bombs and firecrackers were...</td>\n",
              "      <td>[#chars, #image, #Argentina, #coronavirus, #bo...</td>\n",
              "    </tr>\n",
              "    <tr>\n",
              "      <th>7</th>\n",
              "      <td>Coronavirus Has Killed Nearly 10,000 Minks in ...</td>\n",
              "      <td>2020-10-12T16:10:00Z</td>\n",
              "      <td>Humans aren’t the only creatures at risk from ...</td>\n",
              "      <td>Humans arent the only creatures at risk from d...</td>\n",
              "      <td>[#chars, #image, #Argentina, #coronavirus, #bo...</td>\n",
              "    </tr>\n",
              "    <tr>\n",
              "      <th>...</th>\n",
              "      <td>...</td>\n",
              "      <td>...</td>\n",
              "      <td>...</td>\n",
              "      <td>...</td>\n",
              "      <td>...</td>\n",
              "    </tr>\n",
              "    <tr>\n",
              "      <th>75</th>\n",
              "      <td>Harrowing New Coronavirus Surge Rages Across A...</td>\n",
              "      <td>2020-10-24T13:45:33Z</td>\n",
              "      <td>The U.S. set a single-day record of 82,154 new...</td>\n",
              "      <td>LiveUpdated Oct. 24, 2020, 9:31 a.m. ET\\r\\nOct...</td>\n",
              "      <td>[#chars, #image, #said, #Dr., #Argentina]</td>\n",
              "    </tr>\n",
              "    <tr>\n",
              "      <th>76</th>\n",
              "      <td>SUNY Oneonta President Resigns After 700 Stude...</td>\n",
              "      <td>2020-10-15T22:40:58Z</td>\n",
              "      <td>The State University of New York at Oneonta ha...</td>\n",
              "      <td>Although the university did not directly tie D...</td>\n",
              "      <td>[#chars, #image, #Dr., #said, #outbreak]</td>\n",
              "    </tr>\n",
              "    <tr>\n",
              "      <th>77</th>\n",
              "      <td>Can I Safely Send My Kid to Day Care? We Asked...</td>\n",
              "      <td>2020-10-23T13:29:11Z</td>\n",
              "      <td>As states struggle with reopening, parents are...</td>\n",
              "      <td>When it comes to transmission of Covid-19 thro...</td>\n",
              "      <td>[#chars, #image, #Dr., #said, #outbreak]</td>\n",
              "    </tr>\n",
              "    <tr>\n",
              "      <th>78</th>\n",
              "      <td>The I.M.F. sees early signs of a global econom...</td>\n",
              "      <td>2020-10-13T12:30:05Z</td>\n",
              "      <td>The world finance group warns that the crisis ...</td>\n",
              "      <td>The recession is hammering both advanced and e...</td>\n",
              "      <td>[#chars, #image, #Dr., #said, #outbreak]</td>\n",
              "    </tr>\n",
              "    <tr>\n",
              "      <th>79</th>\n",
              "      <td>China Got Better. We Got Sicker. Thanks, Trump.</td>\n",
              "      <td>2020-10-13T23:50:48Z</td>\n",
              "      <td>With a different leader, the United States cou...</td>\n",
              "      <td>America cannot employ such a strategy. We dont...</td>\n",
              "      <td>[#chars, #image, #Dr., #said, #outbreak]</td>\n",
              "    </tr>\n",
              "  </tbody>\n",
              "</table>\n",
              "<p>68 rows × 5 columns</p>\n",
              "</div>"
            ],
            "text/plain": [
              "                                                Title  ...                                           keywords\n",
              "0   Coronavirus: Argentina's confirmed cases surpa...  ...  [#Argentina, #image, #captionThe, #outbreak, #...\n",
              "1                     Why False Positives Matter, Too  ...  [#Argentina, #chars, #image, #captionThe, #out...\n",
              "3   Coronavirus: Europe’s tough restrictions ‘abso...  ...  [#chars, #image, #Argentina, #captionThe, #out...\n",
              "5   Coronavirus: Clashes in Naples over tightening...  ...  [#chars, #image, #Argentina, #coronavirus, #bo...\n",
              "7   Coronavirus Has Killed Nearly 10,000 Minks in ...  ...  [#chars, #image, #Argentina, #coronavirus, #bo...\n",
              "..                                                ...  ...                                                ...\n",
              "75  Harrowing New Coronavirus Surge Rages Across A...  ...          [#chars, #image, #said, #Dr., #Argentina]\n",
              "76  SUNY Oneonta President Resigns After 700 Stude...  ...           [#chars, #image, #Dr., #said, #outbreak]\n",
              "77  Can I Safely Send My Kid to Day Care? We Asked...  ...           [#chars, #image, #Dr., #said, #outbreak]\n",
              "78  The I.M.F. sees early signs of a global econom...  ...           [#chars, #image, #Dr., #said, #outbreak]\n",
              "79    China Got Better. We Got Sicker. Thanks, Trump.  ...           [#chars, #image, #Dr., #said, #outbreak]\n",
              "\n",
              "[68 rows x 5 columns]"
            ]
          },
          "metadata": {
            "tags": []
          },
          "execution_count": 15
        }
      ]
    }
  ]
}